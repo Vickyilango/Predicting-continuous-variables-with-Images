{
 "cells": [
  {
   "cell_type": "code",
   "execution_count": 22,
   "metadata": {},
   "outputs": [],
   "source": [
    "# Import all the necessary files!\n",
    "import os\n",
    "import tensorflow as tf\n",
    "from tensorflow.keras import layers\n",
    "from tensorflow.keras import Model\n",
    "\n",
    "from keras.preprocessing.image import ImageDataGenerator\n",
    "\n",
    "import pandas as pd\n"
   ]
  },
  {
   "cell_type": "markdown",
   "metadata": {},
   "source": [
    "# Hyperparameters"
   ]
  },
  {
   "cell_type": "code",
   "execution_count": 25,
   "metadata": {},
   "outputs": [],
   "source": [
    "loss_used = 'mean_squared_error'\n",
    "metrics = ['accuracy']\n",
    "batch_size=64\n",
    "epochs = 10"
   ]
  },
  {
   "cell_type": "markdown",
   "metadata": {},
   "source": [
    "# Saving locations"
   ]
  },
  {
   "cell_type": "code",
   "execution_count": null,
   "metadata": {},
   "outputs": [],
   "source": [
    "from tensorflow.keras.applications import VGG16\n",
    "\n",
    "pre_trained_model = VGG16(input_shape = (150, 150, 3), \n",
    "                                include_top = False, \n",
    "                                weights = 'imagenet')\n",
    "\n",
    "# Make all the layers in the pre-trained model non-trainable\n",
    "for layer in pre_trained_model.layers:\n",
    "    layer.trainable = False"
   ]
  },
  {
   "cell_type": "markdown",
   "metadata": {},
   "source": [
    "# Transfer Learning"
   ]
  },
  {
   "cell_type": "code",
   "execution_count": null,
   "metadata": {},
   "outputs": [],
   "source": [
    "from tensorflow.keras.applications import VGG16\n",
    "\n",
    "pre_trained_model = VGG16(input_shape = (150, 150, 3), \n",
    "                                include_top = False, \n",
    "                                weights = 'imagenet')\n",
    "\n",
    "# Make all the layers in the pre-trained model non-trainable\n",
    "for layer in pre_trained_model.layers:\n",
    "    layer.trainable = False"
   ]
  },
  {
   "cell_type": "code",
   "execution_count": 28,
   "metadata": {},
   "outputs": [],
   "source": [
    "import os\n",
    "if not os.path.exists(folder):\n",
    "    os.makedirs(folder)"
   ]
  },
  {
   "cell_type": "code",
   "execution_count": 29,
   "metadata": {},
   "outputs": [
    {
     "name": "stdout",
     "output_type": "stream",
     "text": [
      "last layer output shape:  (None, 9, 9, 512)\n"
     ]
    }
   ],
   "source": [
    "last_layer = pre_trained_model.get_layer('block5_conv3')\n",
    "print('last layer output shape: ', last_layer.output_shape)\n",
    "last_output = last_layer.output "
   ]
  },
  {
   "cell_type": "code",
   "execution_count": 30,
   "metadata": {},
   "outputs": [
    {
     "name": "stdout",
     "output_type": "stream",
     "text": [
      "Model: \"model_2\"\n",
      "_________________________________________________________________\n",
      "Layer (type)                 Output Shape              Param #   \n",
      "=================================================================\n",
      "input_2 (InputLayer)         [(None, 150, 150, 3)]     0         \n",
      "_________________________________________________________________\n",
      "block1_conv1 (Conv2D)        (None, 150, 150, 64)      1792      \n",
      "_________________________________________________________________\n",
      "block1_conv2 (Conv2D)        (None, 150, 150, 64)      36928     \n",
      "_________________________________________________________________\n",
      "block1_pool (MaxPooling2D)   (None, 75, 75, 64)        0         \n",
      "_________________________________________________________________\n",
      "block2_conv1 (Conv2D)        (None, 75, 75, 128)       73856     \n",
      "_________________________________________________________________\n",
      "block2_conv2 (Conv2D)        (None, 75, 75, 128)       147584    \n",
      "_________________________________________________________________\n",
      "block2_pool (MaxPooling2D)   (None, 37, 37, 128)       0         \n",
      "_________________________________________________________________\n",
      "block3_conv1 (Conv2D)        (None, 37, 37, 256)       295168    \n",
      "_________________________________________________________________\n",
      "block3_conv2 (Conv2D)        (None, 37, 37, 256)       590080    \n",
      "_________________________________________________________________\n",
      "block3_conv3 (Conv2D)        (None, 37, 37, 256)       590080    \n",
      "_________________________________________________________________\n",
      "block3_pool (MaxPooling2D)   (None, 18, 18, 256)       0         \n",
      "_________________________________________________________________\n",
      "block4_conv1 (Conv2D)        (None, 18, 18, 512)       1180160   \n",
      "_________________________________________________________________\n",
      "block4_conv2 (Conv2D)        (None, 18, 18, 512)       2359808   \n",
      "_________________________________________________________________\n",
      "block4_conv3 (Conv2D)        (None, 18, 18, 512)       2359808   \n",
      "_________________________________________________________________\n",
      "block4_pool (MaxPooling2D)   (None, 9, 9, 512)         0         \n",
      "_________________________________________________________________\n",
      "block5_conv1 (Conv2D)        (None, 9, 9, 512)         2359808   \n",
      "_________________________________________________________________\n",
      "block5_conv2 (Conv2D)        (None, 9, 9, 512)         2359808   \n",
      "_________________________________________________________________\n",
      "block5_conv3 (Conv2D)        (None, 9, 9, 512)         2359808   \n",
      "_________________________________________________________________\n",
      "flatten_2 (Flatten)          (None, 41472)             0         \n",
      "_________________________________________________________________\n",
      "dense_4 (Dense)              (None, 1024)              42468352  \n",
      "_________________________________________________________________\n",
      "dropout_2 (Dropout)          (None, 1024)              0         \n",
      "_________________________________________________________________\n",
      "dense_5 (Dense)              (None, 1)                 1025      \n",
      "=================================================================\n",
      "Total params: 57,184,065\n",
      "Trainable params: 42,469,377\n",
      "Non-trainable params: 14,714,688\n",
      "_________________________________________________________________\n"
     ]
    }
   ],
   "source": [
    "from tensorflow.keras.optimizers import RMSprop\n",
    "\n",
    "# Flatten the output layer to 1 dimension\n",
    "x = layers.Flatten()(last_output)\n",
    "# Add a fully connected layer with 1,024 hidden units and ReLU activation\n",
    "x = layers.Dense(1024, activation='relu')(x)\n",
    "# Add a dropout rate of 0.2\n",
    "x = layers.Dropout(0.2)(x)                  \n",
    "# Add a final sigmoid layer for classification\n",
    "x = layers.Dense  (1, activation='linear')(x)           \n",
    "\n",
    "model = Model( pre_trained_model.input, x) \n",
    "\n",
    "model.compile(optimizer = RMSprop(lr=0.0001), \n",
    "              loss = loss_used,\n",
    "              metrics = metrics) \n",
    "\n",
    "model.summary()"
   ]
  },
  {
   "cell_type": "markdown",
   "metadata": {},
   "source": [
    "# Loading the data"
   ]
  },
  {
   "cell_type": "code",
   "execution_count": 31,
   "metadata": {},
   "outputs": [],
   "source": [
    "\n",
    "all_data_df = pd.read_csv('train_set.csv')\n",
    "all_data_df_use = all_data_df[['img_path','ROS']]\n",
    "train_df=all_data_df_use[all_data_df.img_path.notnull()]\n",
    "\n",
    "result = pd.read_csv('test_set.csv')\n",
    "test_df = result[['img_path','ROS']]"
   ]
  },
  {
   "cell_type": "code",
   "execution_count": 32,
   "metadata": {
    "scrolled": true
   },
   "outputs": [
    {
     "data": {
      "text/html": [
       "<div>\n",
       "<style scoped>\n",
       "    .dataframe tbody tr th:only-of-type {\n",
       "        vertical-align: middle;\n",
       "    }\n",
       "\n",
       "    .dataframe tbody tr th {\n",
       "        vertical-align: top;\n",
       "    }\n",
       "\n",
       "    .dataframe thead th {\n",
       "        text-align: right;\n",
       "    }\n",
       "</style>\n",
       "<table border=\"1\" class=\"dataframe\">\n",
       "  <thead>\n",
       "    <tr style=\"text-align: right;\">\n",
       "      <th></th>\n",
       "      <th>img_path</th>\n",
       "      <th>ROS</th>\n",
       "    </tr>\n",
       "  </thead>\n",
       "  <tbody>\n",
       "    <tr>\n",
       "      <th>0</th>\n",
       "      <td>/home/vigneshwar/sri/square_cropped_images/ima...</td>\n",
       "      <td>0.109929</td>\n",
       "    </tr>\n",
       "    <tr>\n",
       "      <th>1</th>\n",
       "      <td>/home/vigneshwar/sri/square_cropped_images/ima...</td>\n",
       "      <td>0.655773</td>\n",
       "    </tr>\n",
       "    <tr>\n",
       "      <th>2</th>\n",
       "      <td>/home/vigneshwar/sri/square_cropped_images/ima...</td>\n",
       "      <td>0.245059</td>\n",
       "    </tr>\n",
       "    <tr>\n",
       "      <th>3</th>\n",
       "      <td>/home/vigneshwar/sri/square_cropped_images/ima...</td>\n",
       "      <td>0.000000</td>\n",
       "    </tr>\n",
       "    <tr>\n",
       "      <th>4</th>\n",
       "      <td>/home/vigneshwar/sri/square_cropped_images/ima...</td>\n",
       "      <td>0.389480</td>\n",
       "    </tr>\n",
       "    <tr>\n",
       "      <th>5</th>\n",
       "      <td>/home/vigneshwar/sri/square_cropped_images/ima...</td>\n",
       "      <td>0.033828</td>\n",
       "    </tr>\n",
       "    <tr>\n",
       "      <th>6</th>\n",
       "      <td>/home/vigneshwar/sri/square_cropped_images/ima...</td>\n",
       "      <td>0.047089</td>\n",
       "    </tr>\n",
       "    <tr>\n",
       "      <th>7</th>\n",
       "      <td>/home/vigneshwar/sri/square_cropped_images/ima...</td>\n",
       "      <td>0.306019</td>\n",
       "    </tr>\n",
       "    <tr>\n",
       "      <th>8</th>\n",
       "      <td>/home/vigneshwar/sri/square_cropped_images/ima...</td>\n",
       "      <td>0.319010</td>\n",
       "    </tr>\n",
       "    <tr>\n",
       "      <th>9</th>\n",
       "      <td>/home/vigneshwar/sri/square_cropped_images/ima...</td>\n",
       "      <td>0.285231</td>\n",
       "    </tr>\n",
       "    <tr>\n",
       "      <th>10</th>\n",
       "      <td>/home/vigneshwar/sri/square_cropped_images/ima...</td>\n",
       "      <td>0.571916</td>\n",
       "    </tr>\n",
       "    <tr>\n",
       "      <th>11</th>\n",
       "      <td>/home/vigneshwar/sri/square_cropped_images/ima...</td>\n",
       "      <td>0.469944</td>\n",
       "    </tr>\n",
       "    <tr>\n",
       "      <th>12</th>\n",
       "      <td>/home/vigneshwar/sri/square_cropped_images/ima...</td>\n",
       "      <td>0.030314</td>\n",
       "    </tr>\n",
       "    <tr>\n",
       "      <th>13</th>\n",
       "      <td>/home/vigneshwar/sri/square_cropped_images/ima...</td>\n",
       "      <td>0.076493</td>\n",
       "    </tr>\n",
       "    <tr>\n",
       "      <th>14</th>\n",
       "      <td>/home/vigneshwar/sri/square_cropped_images/ima...</td>\n",
       "      <td>0.051188</td>\n",
       "    </tr>\n",
       "    <tr>\n",
       "      <th>15</th>\n",
       "      <td>/home/vigneshwar/sri/square_cropped_images/ima...</td>\n",
       "      <td>0.069174</td>\n",
       "    </tr>\n",
       "    <tr>\n",
       "      <th>16</th>\n",
       "      <td>/home/vigneshwar/sri/square_cropped_images/ima...</td>\n",
       "      <td>0.112128</td>\n",
       "    </tr>\n",
       "    <tr>\n",
       "      <th>17</th>\n",
       "      <td>/home/vigneshwar/sri/square_cropped_images/ima...</td>\n",
       "      <td>0.419816</td>\n",
       "    </tr>\n",
       "    <tr>\n",
       "      <th>18</th>\n",
       "      <td>/home/vigneshwar/sri/square_cropped_images/ima...</td>\n",
       "      <td>0.474496</td>\n",
       "    </tr>\n",
       "    <tr>\n",
       "      <th>19</th>\n",
       "      <td>/home/vigneshwar/sri/square_cropped_images/ima...</td>\n",
       "      <td>0.283748</td>\n",
       "    </tr>\n",
       "    <tr>\n",
       "      <th>20</th>\n",
       "      <td>/home/vigneshwar/sri/square_cropped_images/ima...</td>\n",
       "      <td>0.922543</td>\n",
       "    </tr>\n",
       "    <tr>\n",
       "      <th>21</th>\n",
       "      <td>/home/vigneshwar/sri/square_cropped_images/ima...</td>\n",
       "      <td>0.745688</td>\n",
       "    </tr>\n",
       "    <tr>\n",
       "      <th>22</th>\n",
       "      <td>/home/vigneshwar/sri/square_cropped_images/ima...</td>\n",
       "      <td>0.855777</td>\n",
       "    </tr>\n",
       "    <tr>\n",
       "      <th>23</th>\n",
       "      <td>/home/vigneshwar/sri/square_cropped_images/ima...</td>\n",
       "      <td>0.589562</td>\n",
       "    </tr>\n",
       "    <tr>\n",
       "      <th>24</th>\n",
       "      <td>/home/vigneshwar/sri/square_cropped_images/ima...</td>\n",
       "      <td>0.196485</td>\n",
       "    </tr>\n",
       "    <tr>\n",
       "      <th>25</th>\n",
       "      <td>/home/vigneshwar/sri/square_cropped_images/ima...</td>\n",
       "      <td>0.149122</td>\n",
       "    </tr>\n",
       "    <tr>\n",
       "      <th>26</th>\n",
       "      <td>/home/vigneshwar/sri/square_cropped_images/ima...</td>\n",
       "      <td>0.986993</td>\n",
       "    </tr>\n",
       "    <tr>\n",
       "      <th>27</th>\n",
       "      <td>/home/vigneshwar/sri/square_cropped_images/ima...</td>\n",
       "      <td>0.516696</td>\n",
       "    </tr>\n",
       "    <tr>\n",
       "      <th>28</th>\n",
       "      <td>/home/vigneshwar/sri/square_cropped_images/ima...</td>\n",
       "      <td>0.275618</td>\n",
       "    </tr>\n",
       "    <tr>\n",
       "      <th>29</th>\n",
       "      <td>/home/vigneshwar/sri/square_cropped_images/ima...</td>\n",
       "      <td>0.270570</td>\n",
       "    </tr>\n",
       "    <tr>\n",
       "      <th>...</th>\n",
       "      <td>...</td>\n",
       "      <td>...</td>\n",
       "    </tr>\n",
       "    <tr>\n",
       "      <th>13597</th>\n",
       "      <td>/home/vigneshwar/sri/square_cropped_images/ima...</td>\n",
       "      <td>0.573457</td>\n",
       "    </tr>\n",
       "    <tr>\n",
       "      <th>13598</th>\n",
       "      <td>/home/vigneshwar/sri/square_cropped_images/ima...</td>\n",
       "      <td>0.380295</td>\n",
       "    </tr>\n",
       "    <tr>\n",
       "      <th>13599</th>\n",
       "      <td>/home/vigneshwar/sri/square_cropped_images/ima...</td>\n",
       "      <td>1.040454</td>\n",
       "    </tr>\n",
       "    <tr>\n",
       "      <th>13600</th>\n",
       "      <td>/home/vigneshwar/sri/square_cropped_images/ima...</td>\n",
       "      <td>0.660623</td>\n",
       "    </tr>\n",
       "    <tr>\n",
       "      <th>13601</th>\n",
       "      <td>/home/vigneshwar/sri/square_cropped_images/ima...</td>\n",
       "      <td>1.108716</td>\n",
       "    </tr>\n",
       "    <tr>\n",
       "      <th>13602</th>\n",
       "      <td>/home/vigneshwar/sri/square_cropped_images/ima...</td>\n",
       "      <td>1.245987</td>\n",
       "    </tr>\n",
       "    <tr>\n",
       "      <th>13603</th>\n",
       "      <td>/home/vigneshwar/sri/square_cropped_images/ima...</td>\n",
       "      <td>0.695459</td>\n",
       "    </tr>\n",
       "    <tr>\n",
       "      <th>13604</th>\n",
       "      <td>/home/vigneshwar/sri/square_cropped_images/ima...</td>\n",
       "      <td>0.671265</td>\n",
       "    </tr>\n",
       "    <tr>\n",
       "      <th>13605</th>\n",
       "      <td>/home/vigneshwar/sri/square_cropped_images/ima...</td>\n",
       "      <td>0.642353</td>\n",
       "    </tr>\n",
       "    <tr>\n",
       "      <th>13606</th>\n",
       "      <td>/home/vigneshwar/sri/square_cropped_images/ima...</td>\n",
       "      <td>0.647892</td>\n",
       "    </tr>\n",
       "    <tr>\n",
       "      <th>13607</th>\n",
       "      <td>/home/vigneshwar/sri/square_cropped_images/ima...</td>\n",
       "      <td>7.000000</td>\n",
       "    </tr>\n",
       "    <tr>\n",
       "      <th>13608</th>\n",
       "      <td>/home/vigneshwar/sri/square_cropped_images/ima...</td>\n",
       "      <td>1.327331</td>\n",
       "    </tr>\n",
       "    <tr>\n",
       "      <th>13609</th>\n",
       "      <td>/home/vigneshwar/sri/square_cropped_images/ima...</td>\n",
       "      <td>0.935644</td>\n",
       "    </tr>\n",
       "    <tr>\n",
       "      <th>13610</th>\n",
       "      <td>/home/vigneshwar/sri/square_cropped_images/ima...</td>\n",
       "      <td>0.189658</td>\n",
       "    </tr>\n",
       "    <tr>\n",
       "      <th>13611</th>\n",
       "      <td>/home/vigneshwar/sri/square_cropped_images/ima...</td>\n",
       "      <td>0.112748</td>\n",
       "    </tr>\n",
       "    <tr>\n",
       "      <th>13612</th>\n",
       "      <td>/home/vigneshwar/sri/square_cropped_images/ima...</td>\n",
       "      <td>0.696133</td>\n",
       "    </tr>\n",
       "    <tr>\n",
       "      <th>13613</th>\n",
       "      <td>/home/vigneshwar/sri/square_cropped_images/ima...</td>\n",
       "      <td>0.432353</td>\n",
       "    </tr>\n",
       "    <tr>\n",
       "      <th>13614</th>\n",
       "      <td>/home/vigneshwar/sri/square_cropped_images/ima...</td>\n",
       "      <td>0.705959</td>\n",
       "    </tr>\n",
       "    <tr>\n",
       "      <th>13615</th>\n",
       "      <td>/home/vigneshwar/sri/square_cropped_images/ima...</td>\n",
       "      <td>1.108216</td>\n",
       "    </tr>\n",
       "    <tr>\n",
       "      <th>13616</th>\n",
       "      <td>/home/vigneshwar/sri/square_cropped_images/ima...</td>\n",
       "      <td>0.603504</td>\n",
       "    </tr>\n",
       "    <tr>\n",
       "      <th>13617</th>\n",
       "      <td>/home/vigneshwar/sri/square_cropped_images/ima...</td>\n",
       "      <td>0.844706</td>\n",
       "    </tr>\n",
       "    <tr>\n",
       "      <th>13618</th>\n",
       "      <td>/home/vigneshwar/sri/square_cropped_images/ima...</td>\n",
       "      <td>0.530621</td>\n",
       "    </tr>\n",
       "    <tr>\n",
       "      <th>13619</th>\n",
       "      <td>/home/vigneshwar/sri/square_cropped_images/ima...</td>\n",
       "      <td>0.804653</td>\n",
       "    </tr>\n",
       "    <tr>\n",
       "      <th>13620</th>\n",
       "      <td>/home/vigneshwar/sri/square_cropped_images/ima...</td>\n",
       "      <td>0.335888</td>\n",
       "    </tr>\n",
       "    <tr>\n",
       "      <th>13621</th>\n",
       "      <td>/home/vigneshwar/sri/square_cropped_images/ima...</td>\n",
       "      <td>0.235644</td>\n",
       "    </tr>\n",
       "    <tr>\n",
       "      <th>13622</th>\n",
       "      <td>/home/vigneshwar/sri/square_cropped_images/ima...</td>\n",
       "      <td>7.000000</td>\n",
       "    </tr>\n",
       "    <tr>\n",
       "      <th>13623</th>\n",
       "      <td>/home/vigneshwar/sri/square_cropped_images/ima...</td>\n",
       "      <td>1.241880</td>\n",
       "    </tr>\n",
       "    <tr>\n",
       "      <th>13624</th>\n",
       "      <td>/home/vigneshwar/sri/square_cropped_images/ima...</td>\n",
       "      <td>0.478075</td>\n",
       "    </tr>\n",
       "    <tr>\n",
       "      <th>13625</th>\n",
       "      <td>/home/vigneshwar/sri/square_cropped_images/ima...</td>\n",
       "      <td>0.625591</td>\n",
       "    </tr>\n",
       "    <tr>\n",
       "      <th>13626</th>\n",
       "      <td>/home/vigneshwar/sri/square_cropped_images/ima...</td>\n",
       "      <td>2.236073</td>\n",
       "    </tr>\n",
       "  </tbody>\n",
       "</table>\n",
       "<p>13627 rows × 2 columns</p>\n",
       "</div>"
      ],
      "text/plain": [
       "                                                img_path       ROS\n",
       "0      /home/vigneshwar/sri/square_cropped_images/ima...  0.109929\n",
       "1      /home/vigneshwar/sri/square_cropped_images/ima...  0.655773\n",
       "2      /home/vigneshwar/sri/square_cropped_images/ima...  0.245059\n",
       "3      /home/vigneshwar/sri/square_cropped_images/ima...  0.000000\n",
       "4      /home/vigneshwar/sri/square_cropped_images/ima...  0.389480\n",
       "5      /home/vigneshwar/sri/square_cropped_images/ima...  0.033828\n",
       "6      /home/vigneshwar/sri/square_cropped_images/ima...  0.047089\n",
       "7      /home/vigneshwar/sri/square_cropped_images/ima...  0.306019\n",
       "8      /home/vigneshwar/sri/square_cropped_images/ima...  0.319010\n",
       "9      /home/vigneshwar/sri/square_cropped_images/ima...  0.285231\n",
       "10     /home/vigneshwar/sri/square_cropped_images/ima...  0.571916\n",
       "11     /home/vigneshwar/sri/square_cropped_images/ima...  0.469944\n",
       "12     /home/vigneshwar/sri/square_cropped_images/ima...  0.030314\n",
       "13     /home/vigneshwar/sri/square_cropped_images/ima...  0.076493\n",
       "14     /home/vigneshwar/sri/square_cropped_images/ima...  0.051188\n",
       "15     /home/vigneshwar/sri/square_cropped_images/ima...  0.069174\n",
       "16     /home/vigneshwar/sri/square_cropped_images/ima...  0.112128\n",
       "17     /home/vigneshwar/sri/square_cropped_images/ima...  0.419816\n",
       "18     /home/vigneshwar/sri/square_cropped_images/ima...  0.474496\n",
       "19     /home/vigneshwar/sri/square_cropped_images/ima...  0.283748\n",
       "20     /home/vigneshwar/sri/square_cropped_images/ima...  0.922543\n",
       "21     /home/vigneshwar/sri/square_cropped_images/ima...  0.745688\n",
       "22     /home/vigneshwar/sri/square_cropped_images/ima...  0.855777\n",
       "23     /home/vigneshwar/sri/square_cropped_images/ima...  0.589562\n",
       "24     /home/vigneshwar/sri/square_cropped_images/ima...  0.196485\n",
       "25     /home/vigneshwar/sri/square_cropped_images/ima...  0.149122\n",
       "26     /home/vigneshwar/sri/square_cropped_images/ima...  0.986993\n",
       "27     /home/vigneshwar/sri/square_cropped_images/ima...  0.516696\n",
       "28     /home/vigneshwar/sri/square_cropped_images/ima...  0.275618\n",
       "29     /home/vigneshwar/sri/square_cropped_images/ima...  0.270570\n",
       "...                                                  ...       ...\n",
       "13597  /home/vigneshwar/sri/square_cropped_images/ima...  0.573457\n",
       "13598  /home/vigneshwar/sri/square_cropped_images/ima...  0.380295\n",
       "13599  /home/vigneshwar/sri/square_cropped_images/ima...  1.040454\n",
       "13600  /home/vigneshwar/sri/square_cropped_images/ima...  0.660623\n",
       "13601  /home/vigneshwar/sri/square_cropped_images/ima...  1.108716\n",
       "13602  /home/vigneshwar/sri/square_cropped_images/ima...  1.245987\n",
       "13603  /home/vigneshwar/sri/square_cropped_images/ima...  0.695459\n",
       "13604  /home/vigneshwar/sri/square_cropped_images/ima...  0.671265\n",
       "13605  /home/vigneshwar/sri/square_cropped_images/ima...  0.642353\n",
       "13606  /home/vigneshwar/sri/square_cropped_images/ima...  0.647892\n",
       "13607  /home/vigneshwar/sri/square_cropped_images/ima...  7.000000\n",
       "13608  /home/vigneshwar/sri/square_cropped_images/ima...  1.327331\n",
       "13609  /home/vigneshwar/sri/square_cropped_images/ima...  0.935644\n",
       "13610  /home/vigneshwar/sri/square_cropped_images/ima...  0.189658\n",
       "13611  /home/vigneshwar/sri/square_cropped_images/ima...  0.112748\n",
       "13612  /home/vigneshwar/sri/square_cropped_images/ima...  0.696133\n",
       "13613  /home/vigneshwar/sri/square_cropped_images/ima...  0.432353\n",
       "13614  /home/vigneshwar/sri/square_cropped_images/ima...  0.705959\n",
       "13615  /home/vigneshwar/sri/square_cropped_images/ima...  1.108216\n",
       "13616  /home/vigneshwar/sri/square_cropped_images/ima...  0.603504\n",
       "13617  /home/vigneshwar/sri/square_cropped_images/ima...  0.844706\n",
       "13618  /home/vigneshwar/sri/square_cropped_images/ima...  0.530621\n",
       "13619  /home/vigneshwar/sri/square_cropped_images/ima...  0.804653\n",
       "13620  /home/vigneshwar/sri/square_cropped_images/ima...  0.335888\n",
       "13621  /home/vigneshwar/sri/square_cropped_images/ima...  0.235644\n",
       "13622  /home/vigneshwar/sri/square_cropped_images/ima...  7.000000\n",
       "13623  /home/vigneshwar/sri/square_cropped_images/ima...  1.241880\n",
       "13624  /home/vigneshwar/sri/square_cropped_images/ima...  0.478075\n",
       "13625  /home/vigneshwar/sri/square_cropped_images/ima...  0.625591\n",
       "13626  /home/vigneshwar/sri/square_cropped_images/ima...  2.236073\n",
       "\n",
       "[13627 rows x 2 columns]"
      ]
     },
     "execution_count": 32,
     "metadata": {},
     "output_type": "execute_result"
    }
   ],
   "source": [
    "train_df"
   ]
  },
  {
   "cell_type": "markdown",
   "metadata": {},
   "source": [
    "# Generators"
   ]
  },
  {
   "cell_type": "code",
   "execution_count": 33,
   "metadata": {
    "scrolled": true
   },
   "outputs": [
    {
     "name": "stdout",
     "output_type": "stream",
     "text": [
      "Found 10902 images.\n",
      "Found 2725 images.\n",
      "Found 2617 images.\n"
     ]
    }
   ],
   "source": [
    "datagen = ImageDataGenerator( \n",
    "            rescale=1./255.,\n",
    "            rotation_range=40,\n",
    "            width_shift_range=0.2,\n",
    "            height_shift_range=0.2,\n",
    "            shear_range=0.2,\n",
    "            zoom_range=0.2,\n",
    "            horizontal_flip=True,\n",
    "            validation_split=0.20,\n",
    "            fill_mode='nearest')\n",
    "\n",
    "train_generator=datagen.flow_from_dataframe(\n",
    "            dataframe=train_df,\n",
    "            directory=None,\n",
    "            x_col=\"img_path\",\n",
    "            y_col=\"ROS\",\n",
    "            subset=\"training\",\n",
    "            batch_size=32,\n",
    "            seed=42,\n",
    "            shuffle=True,\n",
    "            class_mode=\"other\",\n",
    "            target_size=(150,150))\n",
    "\n",
    "valid_generator=datagen.flow_from_dataframe(\n",
    "            dataframe=train_df,\n",
    "            directory=None,\n",
    "            x_col=\"img_path\",\n",
    "            y_col=\"ROS\",\n",
    "            subset=\"validation\",\n",
    "            batch_size=32,\n",
    "            seed=42,\n",
    "            class_mode=\"other\",\n",
    "            target_size=(150,150))\n",
    "\n",
    "test_datagen=ImageDataGenerator(rescale=1./255.)\n",
    "\n",
    "test_generator=test_datagen.flow_from_dataframe(\n",
    "            dataframe=test_df,\n",
    "            directory=None,\n",
    "            x_col=\"img_path\",\n",
    "            y_col=None,\n",
    "            batch_size=batch_size,\n",
    "            seed=42,\n",
    "            class_mode=None,\n",
    "            target_size=(150,150))"
   ]
  },
  {
   "cell_type": "code",
   "execution_count": 34,
   "metadata": {},
   "outputs": [],
   "source": [
    "# Define a Callback class that stops training once accuracy reaches 99.9%\n",
    "class myCallback(tf.keras.callbacks.Callback):\n",
    "    def on_epoch_end(self, epoch, logs={}):\n",
    "        if(logs.get('acc')>0.999):\n",
    "            print(\"\\nReached 99.9% accuracy so cancelling training!\")\n",
    "            self.model.stop_training = True\n",
    "            "
   ]
  },
  {
   "cell_type": "code",
   "execution_count": 35,
   "metadata": {},
   "outputs": [
    {
     "name": "stdout",
     "output_type": "stream",
     "text": [
      "Epoch 1/10\n",
      "341/341 [==============================] - 1586s 5s/step - loss: 1.2512 - acc: 0.0085 - val_loss: 0.2069 - val_acc: 0.0011\n",
      "Epoch 2/10\n",
      "341/341 [==============================] - 1578s 5s/step - loss: 0.1871 - acc: 0.0072 - val_loss: 0.2088 - val_acc: 0.0022\n",
      "Epoch 3/10\n",
      "341/341 [==============================] - 1577s 5s/step - loss: 0.1840 - acc: 0.0083 - val_loss: 0.2014 - val_acc: 0.0000e+00\n",
      "Epoch 4/10\n",
      "341/341 [==============================] - 1580s 5s/step - loss: 0.1847 - acc: 0.0067 - val_loss: 0.1991 - val_acc: 0.0000e+00\n",
      "Epoch 5/10\n",
      "341/341 [==============================] - 1579s 5s/step - loss: 0.1821 - acc: 0.0078 - val_loss: 0.1965 - val_acc: 0.0000e+00\n",
      "Epoch 6/10\n",
      "341/341 [==============================] - 1575s 5s/step - loss: 0.1828 - acc: 0.0068 - val_loss: 0.2101 - val_acc: 3.6697e-04\n",
      "Epoch 7/10\n",
      "341/341 [==============================] - 1571s 5s/step - loss: 0.1816 - acc: 0.0069 - val_loss: 0.2030 - val_acc: 3.6697e-04\n",
      "Epoch 8/10\n",
      "341/341 [==============================] - 1576s 5s/step - loss: 0.1813 - acc: 0.0073 - val_loss: 0.1968 - val_acc: 3.6697e-04\n",
      "Epoch 9/10\n",
      "341/341 [==============================] - 1576s 5s/step - loss: 0.1804 - acc: 0.0072 - val_loss: 0.2085 - val_acc: 0.0015\n",
      "Epoch 10/10\n",
      "341/341 [==============================] - 1578s 5s/step - loss: 0.1806 - acc: 0.0069 - val_loss: 0.1977 - val_acc: 0.0000e+00\n"
     ]
    }
   ],
   "source": [
    "callbacks = myCallback()\n",
    "history = model.fit_generator(train_generator,\n",
    "                              validation_data=valid_generator,\n",
    "                              epochs=epochs,\n",
    "                              verbose=1,\n",
    "                              callbacks=[callbacks])"
   ]
  },
  {
   "cell_type": "markdown",
   "metadata": {},
   "source": [
    "# Saving and Ploting"
   ]
  },
  {
   "cell_type": "code",
   "execution_count": 36,
   "metadata": {},
   "outputs": [],
   "source": [
    "model.save(model_name)"
   ]
  },
  {
   "cell_type": "code",
   "execution_count": 90,
   "metadata": {},
   "outputs": [
    {
     "data": {
      "image/png": "[encoded data removed]",
      "text/plain": [
       "<Figure size 432x288 with 1 Axes>"
      ]
     },
     "metadata": {
      "needs_background": "light"
     },
     "output_type": "display_data"
    },
    {
     "data": {
      "text/plain": [
       "<Figure size 432x288 with 0 Axes>"
      ]
     },
     "metadata": {},
     "output_type": "display_data"
    }
   ],
   "source": [
    "import matplotlib.pyplot as plt\n",
    "%matplotlib inline\n",
    "acc = history.history['acc']\n",
    "val_acc = history.history['val_acc']\n",
    "loss = history.history['loss']\n",
    "val_loss = history.history['val_loss']\n",
    "\n",
    "epochs = range(len(acc))\n",
    "fig1 = plt.gcf()\n",
    "plt.plot(epochs, acc, 'r', label='Training accuracy')\n",
    "plt.plot(epochs, val_acc, 'b', label='Validation accuracy')\n",
    "plt.title('Training and validation accuracy')\n",
    "plt.legend(loc=0)\n",
    "fig1.savefig(accuracy_plot)\n",
    "\n",
    "plt.figure()\n",
    "plt.show()"
   ]
  },
  {
   "cell_type": "code",
   "execution_count": 89,
   "metadata": {
    "scrolled": false
   },
   "outputs": [
    {
     "data": {
      "text/plain": [
       "<Figure size 432x288 with 0 Axes>"
      ]
     },
     "execution_count": 89,
     "metadata": {},
     "output_type": "execute_result"
    },
    {
     "data": {
      "image/png": "[encoded data removed]",
      "text/plain": [
       "<Figure size 432x288 with 1 Axes>"
      ]
     },
     "metadata": {
      "needs_background": "light"
     },
     "output_type": "display_data"
    },
    {
     "data": {
      "text/plain": [
       "<Figure size 432x288 with 0 Axes>"
      ]
     },
     "metadata": {},
     "output_type": "display_data"
    }
   ],
   "source": [
    "fig1 = plt.gcf()\n",
    "plt.plot(epochs, loss, 'r', label='Training loss')\n",
    "plt.plot(epochs, val_loss, 'b', label='Validation loss')\n",
    "plt.title('Training and validation loss')\n",
    "plt.legend(loc=0)\n",
    "plt.savefig(loss_plot)\n",
    "\n",
    "plt.figure()\n",
    "#plt.show()"
   ]
  },
  {
   "cell_type": "code",
   "execution_count": 43,
   "metadata": {},
   "outputs": [
    {
     "name": "stdout",
     "output_type": "stream",
     "text": [
      "41/41 [==============================] - 284s 7s/step\n"
     ]
    }
   ],
   "source": [
    "scores = model.predict_generator(test_generator,verbose=1) "
   ]
  },
  {
   "cell_type": "code",
   "execution_count": 44,
   "metadata": {},
   "outputs": [
    {
     "data": {
      "text/plain": [
       "array([[0.6285243 ],\n",
       "       [0.5889201 ],\n",
       "       [0.5647993 ],\n",
       "       ...,\n",
       "       [0.60544753],\n",
       "       [0.4324256 ],\n",
       "       [0.6397518 ]], dtype=float32)"
      ]
     },
     "execution_count": 44,
     "metadata": {},
     "output_type": "execute_result"
    }
   ],
   "source": [
    "scores"
   ]
  },
  {
   "cell_type": "code",
   "execution_count": 47,
   "metadata": {},
   "outputs": [],
   "source": [
    "result['Predicted'] = scores"
   ]
  },
  {
   "cell_type": "code",
   "execution_count": 48,
   "metadata": {},
   "outputs": [],
   "source": [
    "result['Mape'] = abs( (result['ROS'] - result['Predicted'] ) / result['ROS']) * 100"
   ]
  },
  {
   "cell_type": "code",
   "execution_count": 50,
   "metadata": {},
   "outputs": [],
   "source": [
    "result.to_csv(output_file)"
   ]
  },
  {
   "cell_type": "code",
   "execution_count": 52,
   "metadata": {},
   "outputs": [],
   "source": [
    "MAPE = result[(result['Mape'] <= 100) & (result['Mape'] >= 0)]['Mape'].mean()"
   ]
  },
  {
   "cell_type": "code",
   "execution_count": 53,
   "metadata": {},
   "outputs": [
    {
     "data": {
      "text/plain": [
       "34.47155357680085"
      ]
     },
     "execution_count": 53,
     "metadata": {},
     "output_type": "execute_result"
    }
   ],
   "source": [
    "MAPE"
   ]
  },
  {
   "cell_type": "code",
   "execution_count": 54,
   "metadata": {},
   "outputs": [],
   "source": [
    "import numpy as np\n",
    "MAPE_RAW = result[~result.isin([np.nan, np.inf, -np.inf]).any(1)]['Mape'].mean()"
   ]
  },
  {
   "cell_type": "code",
   "execution_count": 55,
   "metadata": {},
   "outputs": [
    {
     "data": {
      "text/plain": [
       "54.05876906315976"
      ]
     },
     "execution_count": 55,
     "metadata": {},
     "output_type": "execute_result"
    }
   ],
   "source": [
    "MAPE_RAW"
   ]
  },
  {
   "cell_type": "code",
   "execution_count": 56,
   "metadata": {},
   "outputs": [],
   "source": [
    "from sklearn.metrics import mean_squared_error\n",
    "MSE = mean_squared_error(y_true = result['ROS'], y_pred = result['Predicted'])\n",
    "RMSE = MSE**(0.5)"
   ]
  },
  {
   "cell_type": "code",
   "execution_count": 57,
   "metadata": {},
   "outputs": [
    {
     "name": "stdout",
     "output_type": "stream",
     "text": [
      "0.18827737825725016\n",
      "0.4339094125013309\n"
     ]
    }
   ],
   "source": [
    "print(MSE)\n",
    "print(MSE**(0.5))"
   ]
  },
  {
   "cell_type": "code",
   "execution_count": 93,
   "metadata": {},
   "outputs": [
    {
     "data": {
      "image/png": "[encoded data removed]",
      "text/plain": [
       "<Figure size 432x288 with 1 Axes>"
      ]
     },
     "metadata": {
      "needs_background": "light"
     },
     "output_type": "display_data"
    }
   ],
   "source": [
    "fig1 = plt.gcf()\n",
    "pd.value_counts(result['Predicted'].round(1)).sort_index().plot(kind=\"bar\")\n",
    "fig1.savefig(ROS_pred)\n"
   ]
  }
 ],
 "metadata": {
  "kernelspec": {
   "display_name": "Python 3",
   "language": "python",
   "name": "python3"
  },
  "language_info": {
   "codemirror_mode": {
    "name": "ipython",
    "version": 3
   },
   "file_extension": ".py",
   "mimetype": "text/x-python",
   "name": "python",
   "nbconvert_exporter": "python",
   "pygments_lexer": "ipython3",
   "version": "3.7.6"
  }
 },
 "nbformat": 4,
 "nbformat_minor": 2
}
